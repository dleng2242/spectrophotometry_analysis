{
 "cells": [
  {
   "attachments": {},
   "cell_type": "markdown",
   "metadata": {},
   "source": [
    "# Part 1 - Visualise the provided calibration data"
   ]
  },
  {
   "cell_type": "code",
   "execution_count": null,
   "metadata": {},
   "outputs": [],
   "source": [
    "import numpy as np\n",
    "import pandas as pd\n",
    "import plotly.graph_objects as go\n",
    "import sys\n",
    "import os\n",
    "\n",
    "\n",
    "# add SRC to path to allow imports\n",
    "sys.path.append(os.path.join(\"..\", \"src\"))\n",
    "\n",
    "from make_dataset import make_dataset_from_raw"
   ]
  },
  {
   "cell_type": "code",
   "execution_count": null,
   "metadata": {},
   "outputs": [],
   "source": [
    "path = os.path.join(\"..\", \"data\", \"raw\", \"calibration.csv\")\n",
    "df, info_calibr = make_dataset_from_raw(path)"
   ]
  },
  {
   "attachments": {},
   "cell_type": "markdown",
   "metadata": {},
   "source": [
    "## Plotting"
   ]
  },
  {
   "attachments": {},
   "cell_type": "markdown",
   "metadata": {},
   "source": [
    "Plot the measured absorbance (y-axis) \n",
    "against the wavelengths (x-axis) \n",
    "for the different dilutions\n",
    "\n",
    "Plot both raw and corrected\n",
    "3 corrected readings - corrected is minus the blank \n",
    "\n"
   ]
  },
  {
   "cell_type": "code",
   "execution_count": null,
   "metadata": {},
   "outputs": [],
   "source": [
    "# colour map from px.colors.qualitative.D3\n",
    "colours = [\n",
    "    \"#1F77B4\",\n",
    "    \"#FF7F0E\",\n",
    "    \"#2CA02C\",\n",
    "    \"#D62728\",\n",
    "    \"#9467BD\",\n",
    "    \"#8C564B\",\n",
    "    \"#E377C2\",\n",
    "    \"#7F7F7F\",\n",
    "    \"#BCBD22\",\n",
    "    \"#17BECF\",\n",
    "]"
   ]
  },
  {
   "cell_type": "code",
   "execution_count": null,
   "metadata": {},
   "outputs": [],
   "source": [
    "fig = go.Figure()\n",
    "\n",
    "# loop though each dilution\n",
    "dilutions = df[\"dilution_sample\"].unique()\n",
    "for i, dilution in enumerate(dilutions):\n",
    "    df_plot = df.query(\"dilution_sample == @dilution\")\n",
    "    # add main line\n",
    "    fig.add_trace(\n",
    "        go.Scatter(\n",
    "            x=df_plot[\"wavelength_nm\"],\n",
    "            y=df_plot[\"mean_absorption_sample\"],\n",
    "            mode=\"lines\",\n",
    "            name=f\"Dilution: {dilution}\",\n",
    "            line=dict(color=colours[i]),\n",
    "        )\n",
    "    )\n",
    "    # remove as too cluttered without more formatting\n",
    "    #   TODO: make ub.lb transparent, remove from legend\n",
    "    # # add upper/lower\n",
    "    # fig.add_trace(\n",
    "    #     go.Scatter(\n",
    "    #         x=df_plot[\"wavelength_nm\"],\n",
    "    #         y=(\n",
    "    #             df_plot[\"mean_absorption_sample\"] +\n",
    "    #                 df_plot[\"absorption_std_sample\"]\n",
    "    #            ),\n",
    "    #         mode=\"lines\",\n",
    "    #         # name=f\"Dilution: {dilution} upper\",\n",
    "    #         line=dict(color=colours[i]),\n",
    "    #         )\n",
    "    #         )\n",
    "    # fig.add_trace(\n",
    "    #     go.Scatter(\n",
    "    #         x=df_plot[\"wavelength_nm\"],\n",
    "    #         y=(\n",
    "    #             df_plot[\"mean_absorption_sample\"] -\n",
    "    #                 df_plot[\"absorption_std_sample\"]\n",
    "    #            ),\n",
    "    #         mode=\"lines\",\n",
    "    #         # name=f\"Dilution: {dilution} lower\",\n",
    "    #         line=dict(color=colours[i]),\n",
    "    #         )\n",
    "    #         )\n",
    "\n",
    "\n",
    "fig.update_layout(\n",
    "    title=f'Measured Absorbance Spectra from test ID {file_info[\"test_id\"]}',\n",
    "    xaxis_title=\"Wavelength (nm)\",\n",
    "    yaxis_title=\"Absorption (OD)\",\n",
    "    template=\"plotly_white\",\n",
    ")\n",
    "\n",
    "fig.show()"
   ]
  },
  {
   "cell_type": "code",
   "execution_count": null,
   "metadata": {},
   "outputs": [],
   "source": [
    "fig = go.Figure()\n",
    "\n",
    "# loop though each dilution\n",
    "dilutions = df[\"dilution_sample\"].unique()\n",
    "for i, dilution in enumerate(dilutions):\n",
    "    df_plot = df.query(\"dilution_sample == @dilution\")\n",
    "    # add main line\n",
    "    fig.add_trace(\n",
    "        go.Scatter(\n",
    "            x=df_plot[\"wavelength_nm\"],\n",
    "            y=df_plot[\"corrected_mean_absorption_sample\"],\n",
    "            mode=\"lines\",\n",
    "            name=f\"Dilution: {dilution}\",\n",
    "            line=dict(color=colours[i]),\n",
    "        )\n",
    "    )\n",
    "\n",
    "fig.update_layout(\n",
    "    title=f'Corrected Absorbance Spectra from test ID {file_info[\"test_id\"]}',\n",
    "    xaxis_title=\"Wavelength (nm)\",\n",
    "    yaxis_title=\"Absorption (OD)\",\n",
    "    template=\"plotly_white\",\n",
    ")\n",
    "\n",
    "fig.show()"
   ]
  },
  {
   "cell_type": "code",
   "execution_count": null,
   "metadata": {},
   "outputs": [],
   "source": []
  },
  {
   "attachments": {},
   "cell_type": "markdown",
   "metadata": {},
   "source": [
    "TODO:\n",
    "* Filter LHS\n",
    "* Correct colour scale to be sequential \n",
    "* Add in upper and lower lines, fill between maybe?\n",
    "* Add more descriptive text to plot, e.g. subtitle, dates, annotations, etc. \n",
    "* Deal with outliers in data"
   ]
  },
  {
   "cell_type": "code",
   "execution_count": null,
   "metadata": {},
   "outputs": [],
   "source": []
  }
 ],
 "metadata": {
  "kernelspec": {
   "display_name": "py38_spectro",
   "language": "python",
   "name": "python3"
  },
  "language_info": {
   "codemirror_mode": {
    "name": "ipython",
    "version": 3
   },
   "file_extension": ".py",
   "mimetype": "text/x-python",
   "name": "python",
   "nbconvert_exporter": "python",
   "pygments_lexer": "ipython3",
   "version": "3.8.16"
  },
  "orig_nbformat": 4,
  "vscode": {
   "interpreter": {
    "hash": "1d9720351b98ace6aa08204510cae11eb12d416d91f590d688d10565f1c354ba"
   }
  }
 },
 "nbformat": 4,
 "nbformat_minor": 2
}
