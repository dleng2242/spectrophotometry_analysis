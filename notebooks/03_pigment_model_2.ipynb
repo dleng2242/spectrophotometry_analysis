{
 "cells": [
  {
   "attachments": {},
   "cell_type": "markdown",
   "metadata": {},
   "source": [
    "# Part 2 - Pigment Model V2\n",
    "\n",
    "Trying a different modelling approach"
   ]
  },
  {
   "cell_type": "code",
   "execution_count": null,
   "metadata": {},
   "outputs": [],
   "source": [
    "import numpy as np\n",
    "import pandas as pd\n",
    "import plotly.graph_objects as go\n",
    "import statsmodels.api as sm\n",
    "import sys\n",
    "import os\n",
    "\n",
    "\n",
    "# add SRC to path to allow imports\n",
    "sys.path.append(os.path.join(\"..\", \"src\"))\n",
    "\n",
    "from make_dataset import make_dataset_from_raw"
   ]
  },
  {
   "cell_type": "code",
   "execution_count": null,
   "metadata": {},
   "outputs": [],
   "source": [
    "path_calibr = os.path.join(\"..\", \"data\", \"raw\", \"calibration.csv\")\n",
    "path_sample = os.path.join(\"..\", \"data\", \"raw\", \"sample.csv\")\n",
    "\n",
    "df_calibr, info_calibr = make_dataset_from_raw(path_calibr)\n",
    "df_sample, info_sample = make_dataset_from_raw(path_sample)"
   ]
  },
  {
   "cell_type": "code",
   "execution_count": null,
   "metadata": {},
   "outputs": [],
   "source": [
    "cols = [\n",
    "    \"sample_sample\",\n",
    "    \"dilution_sample\",\n",
    "    \"wavelength_nm\",\n",
    "    \"corrected_mean_absorption_sample\"\n",
    "]\n",
    "\n",
    "df_combined = pd.concat(\n",
    "    [df_calibr[cols], df_sample[cols]]\n",
    "    ).copy()\n",
    "\n",
    "df_combined.head()"
   ]
  },
  {
   "cell_type": "code",
   "execution_count": null,
   "metadata": {},
   "outputs": [],
   "source": [
    "df_combined[\"sample_sample\"].value_counts()"
   ]
  },
  {
   "cell_type": "code",
   "execution_count": null,
   "metadata": {},
   "outputs": [],
   "source": [
    "colours = [\n",
    "    \"#1F77B4\",\n",
    "    \"#FF7F0E\",\n",
    "    \"#2CA02C\",\n",
    "    \"#D62728\",\n",
    "    \"#9467BD\",\n",
    "    \"#8C564B\",\n",
    "    \"#E377C2\",\n",
    "    \"#7F7F7F\",\n",
    "    \"#BCBD22\",\n",
    "    \"#17BECF\",\n",
    "]"
   ]
  },
  {
   "cell_type": "code",
   "execution_count": null,
   "metadata": {},
   "outputs": [],
   "source": [
    "fig = go.Figure()\n",
    "\n",
    "# loop though each dilution and sample\n",
    "samples = df_combined[\"sample_sample\"].unique()\n",
    "dilutions = df_combined[\"dilution_sample\"].unique()\n",
    "for i, sample in enumerate(samples):\n",
    "    for j, dilution in enumerate(dilutions):\n",
    "        df_plot = df_combined.query(\"dilution_sample == @dilution & sample_sample == @sample\")\n",
    "        # add main line\n",
    "        fig.add_trace(\n",
    "            go.Scatter(\n",
    "                x=df_plot[\"wavelength_nm\"],\n",
    "                y=df_plot[\"corrected_mean_absorption_sample\"],\n",
    "                mode=\"lines\",\n",
    "                name=f\"{sample}: {dilution}\",\n",
    "                line=dict(color=colours[i]),\n",
    "            )\n",
    "        )\n",
    "\n",
    "fig.update_layout(\n",
    "    title=f'Corrected Absorbance Spectra for callibration and sample data',\n",
    "    xaxis_title=\"Wavelength (nm)\",\n",
    "    yaxis_title=\"Absorption (OD)\",\n",
    "    template=\"plotly_white\",\n",
    ")\n",
    "\n",
    "fig.show()"
   ]
  },
  {
   "cell_type": "code",
   "execution_count": null,
   "metadata": {},
   "outputs": [],
   "source": []
  },
  {
   "attachments": {},
   "cell_type": "markdown",
   "metadata": {},
   "source": [
    "# Modelling"
   ]
  },
  {
   "attachments": {},
   "cell_type": "markdown",
   "metadata": {},
   "source": [
    "Assume $l = 1$ and $A = \\sum{A_i}$ for each chemical. \n",
    "\n",
    "$$ A = Ecl $$\n",
    "\n",
    "We want to predict the concentration of the new sample given the absoprtion over each wavelength. \n",
    "Our current data only uses \"dilution\" and so fist we will convert to a concentration. \n",
    "Undiluted (dilution = 1) is assumed to be 50 mg/L. \n",
    "\n",
    "Given the linear relationship between measured absoption and concentration we will then fit a linear model.\n",
    "\n",
    "We will also filter the wavelengths to between 470 nm and 570 nm as this section of the sample better matches the callibration data."
   ]
  },
  {
   "cell_type": "code",
   "execution_count": null,
   "metadata": {},
   "outputs": [],
   "source": [
    "df_combined_peak = df_combined.copy()\n",
    "\n",
    "df_combined_peak[\"wavelength_nm\"] = df_combined_peak[\"wavelength_nm\"].astype(int)\n",
    "df_combined_peak = df_combined_peak.query(\"wavelength_nm > 470 & wavelength_nm < 570\")\n",
    "\n",
    "initial_conc = 50\n",
    "df_combined_peak[\"concentration_mg_l\"] = initial_conc / df_combined_peak[\"dilution_sample\"]\n",
    "\n",
    "df_combined_peak.head()"
   ]
  },
  {
   "cell_type": "markdown",
   "metadata": {},
   "source": [
    "Currently sample X1 has dilution of 1, but we don't know the concentration. The above filled this is as 50 mg/L but we will predict this later. "
   ]
  },
  {
   "cell_type": "code",
   "execution_count": null,
   "metadata": {},
   "outputs": [],
   "source": [
    "# Split data into S1 sample for fitting and X1 for prediction later\n",
    "\n",
    "df_model_s1 = df_combined_peak[df_combined_peak[\"sample_sample\"] == \"S1\"]\n",
    "df_model_x1 = df_combined_peak[df_combined_peak[\"sample_sample\"] == \"X1\"]\n"
   ]
  },
  {
   "attachments": {},
   "cell_type": "markdown",
   "metadata": {},
   "source": [
    "### Absorption only model"
   ]
  },
  {
   "cell_type": "code",
   "execution_count": null,
   "metadata": {},
   "outputs": [],
   "source": [
    "cols_target = \"concentration_mg_l\"\n",
    "\n",
    "cols_feature = [\n",
    "    \"corrected_mean_absorption_sample\"\n",
    "]\n",
    "\n",
    "model = sm.OLS(\n",
    "    df_model_s1[cols_target], \n",
    "    df_model_s1[cols_feature]\n",
    ")\n",
    "result = model.fit()\n",
    "result.summary()"
   ]
  },
  {
   "cell_type": "code",
   "execution_count": null,
   "metadata": {},
   "outputs": [],
   "source": [
    "# 44.24 mg/L was the peak-only model\n",
    "conc = result.predict(df_model_x1[cols_feature]).mean()\n",
    "\n",
    "conc"
   ]
  },
  {
   "attachments": {},
   "cell_type": "markdown",
   "metadata": {},
   "source": [
    "The concentration should be between 25 and 50 mg/l bases on data between the peak, or over 50 mg/l away from the peak.\n",
    "\n",
    "This value is lower than the previous pigment notebook model, but is otherwise consistent with where we would expect it to be.\n",
    "\n",
    "As there is no wavelngth dependence the absorption away from the peak absorbance is lower and so drags the average down, thus decreasing the predicted value. This is likely not a good model. "
   ]
  },
  {
   "cell_type": "code",
   "execution_count": null,
   "metadata": {},
   "outputs": [],
   "source": [
    "model_results = pd.DataFrame({\n",
    "    \"Model\":[\"Peak Only\", \"Absorption only\"], \n",
    "    \"Conc\" : [44.24, round(conc, 2)],\n",
    "    \"R Squared\" : [np.nan, round(result.rsquared, 2)],\n",
    "    \"BIC\" : [np.nan, round(result.bic)]\n",
    "    })\n",
    "model_results"
   ]
  },
  {
   "attachments": {},
   "cell_type": "markdown",
   "metadata": {},
   "source": [
    "### Aborption and wavelength model"
   ]
  },
  {
   "cell_type": "code",
   "execution_count": null,
   "metadata": {},
   "outputs": [],
   "source": [
    "cols_target = \"concentration_mg_l\"\n",
    "\n",
    "cols_feature = [\n",
    "    \"corrected_mean_absorption_sample\",\n",
    "    \"wavelength_nm\"\n",
    "]\n",
    "\n",
    "model = sm.OLS(\n",
    "    df_model_s1[cols_target], \n",
    "    df_model_s1[cols_feature]\n",
    ")\n",
    "result = model.fit()\n",
    "result.summary()"
   ]
  },
  {
   "cell_type": "code",
   "execution_count": null,
   "metadata": {},
   "outputs": [],
   "source": [
    "# 44.24 mg/L was the peak-only model\n",
    "conc = result.predict(df_model_x1[cols_feature]).mean()\n",
    "conc"
   ]
  },
  {
   "attachments": {},
   "cell_type": "markdown",
   "metadata": {},
   "source": [
    "Again, similar to the previous model. There is a clear wavelength dependence, and the linear coefficent is significant. But, a simple linear term is still not enough to capture the complexity of the relationship. "
   ]
  },
  {
   "cell_type": "code",
   "execution_count": null,
   "metadata": {},
   "outputs": [],
   "source": [
    "model_results_tmp = pd.DataFrame({\n",
    "    \"Model\":[\"Absorption and wavelength\"], \n",
    "    \"Conc\" : [round(conc, 2)],\n",
    "    \"R Squared\" : [round(result.rsquared, 2)],\n",
    "    \"BIC\" : [round(result.bic)]\n",
    "    })\n",
    "model_results = pd.concat([model_results, model_results_tmp]).drop_duplicates()\n",
    "model_results"
   ]
  },
  {
   "cell_type": "code",
   "execution_count": null,
   "metadata": {},
   "outputs": [],
   "source": []
  },
  {
   "attachments": {},
   "cell_type": "markdown",
   "metadata": {},
   "source": [
    "### Absorbance wavelength and intercept"
   ]
  },
  {
   "cell_type": "code",
   "execution_count": null,
   "metadata": {},
   "outputs": [],
   "source": [
    "\n",
    "df_model = df_model_s1.copy()\n",
    "\n",
    "df_model[\"intercept\"] = 1\n",
    "\n",
    "\n",
    "cols_feature = [\n",
    "    \"intercept\",\n",
    "    \"corrected_mean_absorption_sample\",\n",
    "    \"wavelength_nm\"\n",
    "]\n",
    "cols_target = \"concentration_mg_l\"\n",
    "\n",
    "model = sm.OLS(\n",
    "    df_model[cols_target], \n",
    "    df_model[cols_feature]\n",
    ")\n",
    "result = model.fit()\n",
    "result.summary()\n"
   ]
  },
  {
   "cell_type": "code",
   "execution_count": null,
   "metadata": {},
   "outputs": [],
   "source": [
    "df_predict = df_model_x1.copy()\n",
    "df_predict[\"intercept\"] = 1\n",
    "\n",
    "conc = result.predict(df_predict[cols_feature]).mean()\n",
    "conc"
   ]
  },
  {
   "cell_type": "code",
   "execution_count": null,
   "metadata": {},
   "outputs": [],
   "source": [
    "model_results_tmp = pd.DataFrame({\n",
    "    \"Model\":[\"Absorption, wavelength, intercept\"], \n",
    "    \"Conc\" : [round(conc, 2)],\n",
    "    \"R Squared\" : [round(result.rsquared, 2)],\n",
    "    \"BIC\" : [round(result.bic)]\n",
    "    })\n",
    "model_results = pd.concat([model_results, model_results_tmp]).drop_duplicates()\n",
    "model_results"
   ]
  },
  {
   "attachments": {},
   "cell_type": "markdown",
   "metadata": {},
   "source": [
    "### Absorbance with mulitple wavelength terms"
   ]
  },
  {
   "cell_type": "code",
   "execution_count": null,
   "metadata": {},
   "outputs": [],
   "source": [
    "cols_target = \"concentration_mg_l\"\n",
    "\n",
    "\n",
    "\n",
    "df_model = df_model_s1.copy()\n",
    "\n",
    "df_model[\"intercept\"] = 1\n",
    "df_model[\"wavelength_nm_2\"] = df_model[\"wavelength_nm\"]**2\n",
    "\n",
    "\n",
    "cols_feature = [\n",
    "    \"intercept\",\n",
    "    \"corrected_mean_absorption_sample\",\n",
    "    \"wavelength_nm\",\n",
    "    \"wavelength_nm_2\"\n",
    "]\n",
    "\n",
    "model = sm.OLS(\n",
    "    df_model[cols_target], \n",
    "    df_model[cols_feature]\n",
    ")\n",
    "result = model.fit()\n",
    "result.summary()"
   ]
  },
  {
   "cell_type": "code",
   "execution_count": null,
   "metadata": {},
   "outputs": [],
   "source": [
    "df_predict = df_model_x1.copy()\n",
    "\n",
    "df_predict[\"intercept\"] = 1\n",
    "df_predict[\"wavelength_nm_2\"] = df_predict[\"wavelength_nm\"]**2\n",
    "\n",
    "conc = result.predict(df_predict[cols_feature]).mean()\n",
    "conc"
   ]
  },
  {
   "cell_type": "code",
   "execution_count": null,
   "metadata": {},
   "outputs": [],
   "source": [
    "model_results_tmp = pd.DataFrame({\n",
    "    \"Model\":[\"Absorption multi wavelengths\"], \n",
    "    \"Conc\" : [round(conc, 2)],\n",
    "    \"R Squared\" : [round(result.rsquared, 2)],\n",
    "    \"BIC\" : [round(result.bic)]\n",
    "    })\n",
    "model_results = pd.concat([model_results, model_results_tmp]).drop_duplicates()\n",
    "model_results"
   ]
  },
  {
   "attachments": {},
   "cell_type": "markdown",
   "metadata": {},
   "source": [
    "As we have added more terms we have decreased our R-squared, but also decreased our BIC. Models with a lower BIC tend to be preferred.\n",
    "\n",
    "This last model has a substantially lower BIC than the previous, and a slighlty higher R-squared suggesting this might be the best model so far? Interesting it also has the highest predicted concentration, closer to the peak only model which is how I used to work this out in the Lab myself. "
   ]
  },
  {
   "attachments": {},
   "cell_type": "markdown",
   "metadata": {},
   "source": [
    "### Even more wavelength terms?"
   ]
  },
  {
   "cell_type": "code",
   "execution_count": null,
   "metadata": {},
   "outputs": [],
   "source": [
    "cols_target = \"concentration_mg_l\"\n",
    "\n",
    "\n",
    "\n",
    "df_model = df_model_s1.copy()\n",
    "\n",
    "df_model[\"intercept\"] = 1\n",
    "df_model[\"wavelength_nm_2\"] = df_model[\"wavelength_nm\"]**2\n",
    "df_model[\"wavelength_nm_3\"] = df_model[\"wavelength_nm\"]**3\n",
    "df_model[\"wavelength_nm_4\"] = df_model[\"wavelength_nm\"]**4\n",
    "\n",
    "\n",
    "cols_feature = [\n",
    "    \"intercept\",\n",
    "    \"corrected_mean_absorption_sample\",\n",
    "    \"wavelength_nm\",\n",
    "    \"wavelength_nm_2\",\n",
    "    \"wavelength_nm_3\",\n",
    "    \"wavelength_nm_4\",\n",
    "]\n",
    "\n",
    "model = sm.OLS(\n",
    "    df_model[cols_target], \n",
    "    df_model[cols_feature]\n",
    ")\n",
    "result = model.fit()\n",
    "result.summary()"
   ]
  },
  {
   "cell_type": "code",
   "execution_count": null,
   "metadata": {},
   "outputs": [],
   "source": [
    "df_predict = df_model_x1.copy()\n",
    "\n",
    "df_predict[\"intercept\"] = 1\n",
    "df_predict[\"wavelength_nm_2\"] = df_predict[\"wavelength_nm\"]**2\n",
    "df_predict[\"wavelength_nm_3\"] = df_predict[\"wavelength_nm\"]**3\n",
    "df_predict[\"wavelength_nm_4\"] = df_predict[\"wavelength_nm\"]**4\n",
    "\n",
    "\n",
    "conc = result.predict(df_predict[cols_feature]).mean()\n",
    "conc"
   ]
  },
  {
   "cell_type": "code",
   "execution_count": null,
   "metadata": {},
   "outputs": [],
   "source": [
    "model_results_tmp = pd.DataFrame({\n",
    "    \"Model\":[\"Absorption more multi wavelengths\"], \n",
    "    \"Conc\" : [round(conc, 2)],\n",
    "    \"R Squared\" : [round(result.rsquared, 2)],\n",
    "    \"BIC\" : [round(result.bic)]\n",
    "    })\n",
    "model_results = pd.concat([model_results, model_results_tmp]).drop_duplicates()\n",
    "model_results"
   ]
  },
  {
   "attachments": {},
   "cell_type": "markdown",
   "metadata": {},
   "source": [
    "Again, an even lower BIC and higher R Squared than the previous model, and a higher predicted wavelength. The wavelength to the forth power was not significant and so could probably be removed.  "
   ]
  },
  {
   "cell_type": "code",
   "execution_count": null,
   "metadata": {},
   "outputs": [],
   "source": []
  },
  {
   "attachments": {},
   "cell_type": "markdown",
   "metadata": {},
   "source": [
    "### Each wavelength as a separate feature"
   ]
  },
  {
   "attachments": {},
   "cell_type": "markdown",
   "metadata": {},
   "source": [
    "Most values are colinear and so this doesn't work. Would need to do some more work to find components that would work. "
   ]
  },
  {
   "cell_type": "code",
   "execution_count": null,
   "metadata": {},
   "outputs": [],
   "source": [
    "# df_model = df_model_s1.copy()\n",
    "\n",
    "\n",
    "# wavelengths = df_model[\"wavelength_nm\"].unique()\n",
    "# df_model = df_model.pivot(\n",
    "#     index = [\"concentration_mg_l\"],\n",
    "#     columns = \"wavelength_nm\",\n",
    "#     values = \"corrected_mean_absorption_sample\"\n",
    "# ).reset_index()\n",
    "\n",
    "# df_model[\"intercept\"] = 1\n",
    "\n",
    "\n",
    "# cols_feature = [\n",
    "#     \"intercept\",\n",
    "#     *wavelengths\n",
    "# ]\n",
    "# cols_target = \"concentration_mg_l\"\n",
    "\n",
    "# model = sm.OLS(\n",
    "#     df_model[cols_target], \n",
    "#     df_model[cols_feature]\n",
    "# )\n",
    "# result = model.fit()\n",
    "# result.summary()\n"
   ]
  },
  {
   "cell_type": "code",
   "execution_count": null,
   "metadata": {},
   "outputs": [],
   "source": []
  },
  {
   "cell_type": "code",
   "execution_count": null,
   "metadata": {},
   "outputs": [],
   "source": []
  },
  {
   "cell_type": "code",
   "execution_count": null,
   "metadata": {},
   "outputs": [],
   "source": []
  }
 ],
 "metadata": {
  "kernelspec": {
   "display_name": "myenv",
   "language": "python",
   "name": "python3"
  },
  "language_info": {
   "codemirror_mode": {
    "name": "ipython",
    "version": 3
   },
   "file_extension": ".py",
   "mimetype": "text/x-python",
   "name": "python",
   "nbconvert_exporter": "python",
   "pygments_lexer": "ipython3",
   "version": "3.10.9"
  },
  "orig_nbformat": 4
 },
 "nbformat": 4,
 "nbformat_minor": 2
}
