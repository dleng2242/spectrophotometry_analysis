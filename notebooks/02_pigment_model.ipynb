{
 "cells": [
  {
   "attachments": {},
   "cell_type": "markdown",
   "metadata": {},
   "source": [
    "# Part 2 - Pigment Model"
   ]
  },
  {
   "cell_type": "code",
   "execution_count": null,
   "metadata": {},
   "outputs": [],
   "source": [
    "import numpy as np\n",
    "import pandas as pd\n",
    "import plotly.graph_objects as go\n",
    "import statsmodels.api as sm\n",
    "import sys\n",
    "import os\n",
    "\n",
    "\n",
    "# add SRC to path to allow imports\n",
    "sys.path.append(os.path.join(\"..\", \"src\"))\n",
    "\n",
    "from make_dataset import make_dataset_from_raw"
   ]
  },
  {
   "cell_type": "code",
   "execution_count": null,
   "metadata": {},
   "outputs": [],
   "source": [
    "path_calibr = os.path.join(\"..\", \"data\", \"raw\", \"calibration.csv\")\n",
    "path_sample = os.path.join(\"..\", \"data\", \"raw\", \"sample.csv\")\n",
    "\n",
    "df_calibr, info_calibr = make_dataset_from_raw(path_calibr)\n",
    "df_sample, info_sample = make_dataset_from_raw(path_sample)"
   ]
  },
  {
   "cell_type": "code",
   "execution_count": null,
   "metadata": {},
   "outputs": [],
   "source": [
    "df_calibr.head()"
   ]
  },
  {
   "cell_type": "code",
   "execution_count": null,
   "metadata": {},
   "outputs": [],
   "source": [
    "df_sample.head()"
   ]
  },
  {
   "attachments": {},
   "cell_type": "markdown",
   "metadata": {},
   "source": [
    "## quickly plot data"
   ]
  },
  {
   "cell_type": "code",
   "execution_count": null,
   "metadata": {},
   "outputs": [],
   "source": [
    "colours = [\n",
    "    \"#1F77B4\",\n",
    "    \"#FF7F0E\",\n",
    "    \"#2CA02C\",\n",
    "    \"#D62728\",\n",
    "    \"#9467BD\",\n",
    "    \"#8C564B\",\n",
    "    \"#E377C2\",\n",
    "    \"#7F7F7F\",\n",
    "    \"#BCBD22\",\n",
    "    \"#17BECF\",\n",
    "]"
   ]
  },
  {
   "cell_type": "code",
   "execution_count": null,
   "metadata": {},
   "outputs": [],
   "source": [
    "fig = go.Figure()\n",
    "\n",
    "# loop though each dilution\n",
    "dilutions = df_calibr[\"dilution_sample\"].unique()\n",
    "for i, dilution in enumerate(dilutions):\n",
    "    df_plot = df_calibr.query(\"dilution_sample == @dilution\")\n",
    "    # add main line\n",
    "    fig.add_trace(\n",
    "        go.Scatter(\n",
    "            x=df_plot[\"wavelength_nm\"],\n",
    "            y=df_plot[\"corrected_mean_absorption_sample\"],\n",
    "            mode=\"lines\",\n",
    "            name=f\"Dilution: {dilution}\",\n",
    "            line=dict(color=colours[i]),\n",
    "        )\n",
    "    )\n",
    "\n",
    "fig.update_layout(\n",
    "    title=f'Corrected Absorbance Spectra from test ID {info_calibr[\"test_id\"]}',\n",
    "    xaxis_title=\"Wavelength (nm)\",\n",
    "    yaxis_title=\"Absorption (OD)\",\n",
    "    template=\"plotly_white\",\n",
    ")\n",
    "\n",
    "fig.show()"
   ]
  },
  {
   "cell_type": "code",
   "execution_count": null,
   "metadata": {},
   "outputs": [],
   "source": [
    "fig = go.Figure()\n",
    "\n",
    "# loop though each dilution\n",
    "dilutions = df_sample[\"dilution_sample\"].unique()\n",
    "for i, dilution in enumerate(dilutions):\n",
    "    df_plot = df_sample.query(\"dilution_sample == @dilution\")\n",
    "    # add main line\n",
    "    fig.add_trace(\n",
    "        go.Scatter(\n",
    "            x=df_plot[\"wavelength_nm\"],\n",
    "            y=df_plot[\"corrected_mean_absorption_sample\"],\n",
    "            mode=\"lines\",\n",
    "            name=f\"Dilution: {dilution}\",\n",
    "            line=dict(color=colours[i]),\n",
    "        )\n",
    "    )\n",
    "\n",
    "fig.update_layout(\n",
    "    title=f'Corrected Absorbance Spectra from test ID {info_sample[\"test_id\"]}',\n",
    "    xaxis_title=\"Wavelength (nm)\",\n",
    "    yaxis_title=\"Absorption (OD)\",\n",
    "    template=\"plotly_white\",\n",
    ")\n",
    "\n",
    "fig.show()"
   ]
  },
  {
   "cell_type": "code",
   "execution_count": null,
   "metadata": {},
   "outputs": [],
   "source": []
  },
  {
   "attachments": {},
   "cell_type": "markdown",
   "metadata": {},
   "source": [
    "## Work out absorption coefficient\n",
    "\n",
    "Assume $l = 1$ and $A = \\sum{A_i}$ for each chemical. \n",
    "\n",
    "$$ A = Ecl $$\n",
    "\n",
    "So we need to convert dilution to concentration. Undiluted is assumed to be 50 mg/L. \n",
    "\n",
    "Peak absorption is at 536 nm. For ease filter down to only that, assume data at far left and right is more noise than useful. "
   ]
  },
  {
   "cell_type": "code",
   "execution_count": null,
   "metadata": {},
   "outputs": [],
   "source": [
    "df_model = df_calibr.loc[df_calibr[\"wavelength_nm\"] == \"536\"].copy()\n",
    "\n",
    "# undiluted is 50 mg/L\n",
    "initial_conc = 50\n",
    "df_model[\"concentration_mg_l\"] = initial_conc / df_model[\"dilution_sample\"]\n",
    "\n",
    "# Do not include intercept in model\n",
    "#  - zero conc should give zero absorption\n",
    "# df_model[\"intercept\"] = 1\n",
    "\n",
    "# filter only to key columns\n",
    "cols = [\"corrected_mean_absorption_sample\", \"concentration_mg_l\"]\n",
    "df_model = df_model[cols]\n",
    "\n",
    "\n",
    "df_model.head()"
   ]
  },
  {
   "attachments": {},
   "cell_type": "markdown",
   "metadata": {},
   "source": [
    "## Fit linear model"
   ]
  },
  {
   "cell_type": "code",
   "execution_count": null,
   "metadata": {},
   "outputs": [],
   "source": [
    "model = sm.OLS(\n",
    "    df_model[\"corrected_mean_absorption_sample\"], df_model[\"concentration_mg_l\"]\n",
    ")\n",
    "result = model.fit()\n",
    "result.summary()"
   ]
  },
  {
   "cell_type": "code",
   "execution_count": null,
   "metadata": {},
   "outputs": [],
   "source": [
    "absorptivity_coefficient = result.params[\"concentration_mg_l\"]\n",
    "absorptivity_coefficient"
   ]
  },
  {
   "attachments": {},
   "cell_type": "markdown",
   "metadata": {},
   "source": [
    "Model fits well - R-squared of 1.000 (greater than the precision here). \n",
    "\n",
    "Absorption coefficient is $E = 0.0329 \\pm 0.00006$. \n",
    "\n",
    "I would caution using these errors as is as full error propagation has not been done. "
   ]
  },
  {
   "attachments": {},
   "cell_type": "markdown",
   "metadata": {},
   "source": [
    "## Predict concentration of new sample"
   ]
  },
  {
   "attachments": {},
   "cell_type": "markdown",
   "metadata": {},
   "source": [
    "Given $A$, $E$, $L=1$, the concentration $c$ can be determined:\n",
    "\n",
    "$$ A = Ecl $$\n",
    "$$ c = \\frac{A}{El} $$\n"
   ]
  },
  {
   "cell_type": "code",
   "execution_count": null,
   "metadata": {},
   "outputs": [],
   "source": [
    "df_sample.head()"
   ]
  },
  {
   "cell_type": "code",
   "execution_count": null,
   "metadata": {},
   "outputs": [],
   "source": [
    "# again filter to only the 536 nm peak wavelength\n",
    "df_predict = df_sample.loc[df_sample[\"wavelength_nm\"] == \"536\"].copy()\n",
    "\n",
    "# only one value, so extract using .values[0]\n",
    "peak_corrected_abs = df_predict[\"corrected_mean_absorption_sample\"].values[0]\n",
    "print(peak_corrected_abs)\n",
    "\n",
    "# assumes l = 1\n",
    "conc = peak_corrected_abs / (absorptivity_coefficient * 1)\n",
    "print(\"Concentration: \", conc)"
   ]
  },
  {
   "attachments": {},
   "cell_type": "markdown",
   "metadata": {},
   "source": [
    "Final concentration of sample X1 is 44.24 mg/L. "
   ]
  },
  {
   "cell_type": "code",
   "execution_count": null,
   "metadata": {},
   "outputs": [],
   "source": []
  },
  {
   "cell_type": "code",
   "execution_count": null,
   "metadata": {},
   "outputs": [],
   "source": []
  }
 ],
 "metadata": {
  "kernelspec": {
   "display_name": "py38_spectro",
   "language": "python",
   "name": "python3"
  },
  "language_info": {
   "codemirror_mode": {
    "name": "ipython",
    "version": 3
   },
   "file_extension": ".py",
   "mimetype": "text/x-python",
   "name": "python",
   "nbconvert_exporter": "python",
   "pygments_lexer": "ipython3",
   "version": "3.8.16"
  },
  "orig_nbformat": 4,
  "vscode": {
   "interpreter": {
    "hash": "1d9720351b98ace6aa08204510cae11eb12d416d91f590d688d10565f1c354ba"
   }
  }
 },
 "nbformat": 4,
 "nbformat_minor": 2
}
